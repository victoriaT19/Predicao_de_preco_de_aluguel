{
 "cells": [
  {
   "cell_type": "code",
   "execution_count": 13,
   "metadata": {},
   "outputs": [],
   "source": [
    "from sklearn.model_selection import train_test_split\n",
    "from sklearn.preprocessing import OneHotEncoder\n",
    "from sklearn.pipeline import Pipeline\n",
    "from sklearn.compose import ColumnTransformer\n",
    "from sklearn.ensemble import RandomForestRegressor\n",
    "from sklearn.metrics import mean_absolute_error, mean_squared_error, r2_score\n",
    "import numpy as np\n",
    "import pandas as pd\n",
    "\n",
    "df =  pd.read_csv('teste_indicium_precificacao.csv')\n",
    "\n",
    "# definindo um limite superior para preços baseado no percentil 99\n",
    "limite_superior = np.percentile(df[\"price\"], 99)\n",
    "df_filtered = df[df[\"price\"] <= limite_superior]\n",
    "\n",
    "\n",
    "# transformando 'ultima_review' para datetime\n",
    "df_filtered.loc[:, 'ultima_review'] = pd.to_datetime(df_filtered['ultima_review'])\n",
    "\n",
    "# substituindo valores nulos de 'reviews_por_mes' por 0 (assumindo que sem reviews a média é 0)\n",
    "df_filtered.loc[:, 'reviews_por_mes'] = df_filtered['reviews_por_mes'].fillna(0)\n",
    "\n",
    "# selecionando as features relevantes\n",
    "features = ['bairro_group', 'room_type', 'latitude', 'longitude', 'minimo_noites',\n",
    "            'numero_de_reviews', 'reviews_por_mes', 'calculado_host_listings_count', 'disponibilidade_365']\n",
    "\n",
    "target = 'price'\n",
    "\n",
    "# separando as variáveis categóricas e numéricas\n",
    "cat_features = ['bairro_group', 'room_type']\n",
    "num_features = ['latitude', 'longitude', 'minimo_noites', 'numero_de_reviews',\n",
    "                'reviews_por_mes', 'calculado_host_listings_count', 'disponibilidade_365']\n",
    "\n",
    "# pipeline de pré-processamento\n",
    "preprocessor = ColumnTransformer(transformers=[\n",
    "    ('num', 'passthrough', num_features),\n",
    "    ('cat', OneHotEncoder(handle_unknown='ignore'), cat_features)\n",
    "])\n",
    "\n",
    "# criando modelo de regressão\n",
    "model = Pipeline(steps=[\n",
    "    ('preprocessor', preprocessor),\n",
    "    ('regressor', RandomForestRegressor(n_estimators=500, random_state=42))\n",
    "])\n",
    "\n",
    "# separando os dados de treino e teste\n",
    "X_train, X_test, y_train, y_test = train_test_split(df_filtered[features], df_filtered[target], test_size=0.2, random_state=42)"
   ]
  },
  {
   "cell_type": "code",
   "execution_count": null,
   "metadata": {},
   "outputs": [
    {
     "data": {
      "text/plain": [
       "(44.64883398733306, np.float64(73.07930388312242), 0.5057559616341534)"
      ]
     },
     "execution_count": 7,
     "metadata": {},
     "output_type": "execute_result"
    }
   ],
   "source": [
    "# treinando o modelo\n",
    "model.fit(X_train, y_train)\n",
    "\n",
    "# fazendo previsões\n",
    "y_pred = model.predict(X_test)\n",
    "\n",
    "# avaliação do modelo\n",
    "mae = mean_absolute_error(y_test, y_pred)\n",
    "rmse = np.sqrt(mean_squared_error(y_test, y_pred))\n",
    "r2 = r2_score(y_test, y_pred)\n",
    "\n",
    "mae, rmse, r2"
   ]
  },
  {
   "cell_type": "code",
   "execution_count": null,
   "metadata": {},
   "outputs": [
    {
     "data": {
      "text/plain": [
       "['modelo_predicao1.pkl']"
      ]
     },
     "execution_count": 8,
     "metadata": {},
     "output_type": "execute_result"
    }
   ],
   "source": [
    "import joblib\n",
    "\n",
    "# salvando o modelo treinado\n",
    "joblib.dump(model, \"modelo_predicao1.pkl\")\n"
   ]
  },
  {
   "cell_type": "code",
   "execution_count": null,
   "metadata": {},
   "outputs": [
    {
     "name": "stdout",
     "output_type": "stream",
     "text": [
      "Preço estimado: $245.17\n"
     ]
    }
   ],
   "source": [
    "# carregando o modelo salvo\n",
    "modelo_carregado = joblib.load(\"modelo_predicao1.pkl\")\n",
    "\n",
    "# criando um exemplo de entrada com as características do apartamento\n",
    "entrada = {\n",
    "    \"bairro_group\": \"Manhattan\",\n",
    "    \"room_type\": \"Entire home/apt\",\n",
    "    \"latitude\": 40.75362,\n",
    "    \"longitude\": -73.98377,\n",
    "    \"minimo_noites\": 1,\n",
    "    \"numero_de_reviews\": 45,\n",
    "    \"reviews_por_mes\": 0.38,\n",
    "    \"calculado_host_listings_count\": 2,\n",
    "    \"disponibilidade_365\": 355\n",
    "}\n",
    "\n",
    "# convertendo a entrada em um DataFrame\n",
    "entrada_df = pd.DataFrame([entrada])\n",
    "\n",
    "# fazendo a previsão\n",
    "preco_estimado = modelo_carregado.predict(entrada_df)[0]\n",
    "\n",
    "print(f\"Preço estimado: ${preco_estimado:.2f}\")"
   ]
  },
  {
   "cell_type": "code",
   "execution_count": 16,
   "metadata": {},
   "outputs": [],
   "source": [
    "# salvando os conjuntos de treino e teste separadamente\n",
    "X_train.to_csv(\"X_train.csv\", index=False)\n",
    "X_test.to_csv(\"X_test.csv\", index=False)\n",
    "y_train.to_csv(\"y_train.csv\", index=False)\n",
    "y_test.to_csv(\"y_test.csv\", index=False)\n",
    "\n",
    "# concatenando X_train e y_train\n",
    "train_data = pd.concat([X_train, y_train], axis=1)\n",
    "train_data.to_csv(\"train.csv\", index=False)\n",
    "\n",
    "# concatenando X_test e y_test\n",
    "test_data = pd.concat([X_test, y_test], axis=1)\n",
    "test_data.to_csv(\"test.csv\", index=False)"
   ]
  },
  {
   "cell_type": "code",
   "execution_count": 17,
   "metadata": {},
   "outputs": [
    {
     "name": "stdout",
     "output_type": "stream",
     "text": [
      "MAE: 44.65\n",
      "RMSE: 5340.58\n",
      "R²: 0.51\n",
      "   Real  Previsto\n",
      "0    50    54.632\n",
      "1    50    60.526\n",
      "2    59    58.390\n",
      "3   150   236.276\n",
      "4   175   163.008\n"
     ]
    }
   ],
   "source": [
    "# carregando os dados de teste\n",
    "test_data = pd.read_csv(\"test.csv\")\n",
    "\n",
    "# separando X_test e y_test\n",
    "X_test = test_data.drop(columns=[\"price\"])  # Substitua \"price\" pelo nome da coluna alvo\n",
    "y_test = test_data[\"price\"]\n",
    "\n",
    "# fazendo previsões no X_test\n",
    "y_pred = modelo_carregado.predict(X_test)\n",
    "\n",
    "# comparando com os valores reais\n",
    "mae = mean_absolute_error(y_test, y_pred)\n",
    "rmse = mean_squared_error(y_test, y_pred)\n",
    "r2 = r2_score(y_test, y_pred)\n",
    "\n",
    "# exibindo os resultados\n",
    "print(f\"MAE: {mae:.2f}\")\n",
    "print(f\"RMSE: {rmse:.2f}\")\n",
    "print(f\"R²: {r2:.2f}\")\n",
    "\n",
    "# criando um DataFrame com os resultados\n",
    "comparacao = pd.DataFrame({\"Real\": y_test, \"Previsto\": y_pred})\n",
    "print(comparacao.head())  # Mostrar as primeiras linhas"
   ]
  },
  {
   "cell_type": "code",
   "execution_count": 18,
   "metadata": {},
   "outputs": [
    {
     "name": "stdout",
     "output_type": "stream",
     "text": [
      "\n",
      "Exemplo 1:\n",
      "Preço real: 50.00\n",
      "Preço previsto: 54.63\n",
      "Diferença (Erro): -4.63\n",
      "\n",
      "Exemplo 2:\n",
      "Preço real: 50.00\n",
      "Preço previsto: 60.53\n",
      "Diferença (Erro): -10.53\n",
      "\n",
      "Exemplo 3:\n",
      "Preço real: 59.00\n",
      "Preço previsto: 58.39\n",
      "Diferença (Erro): 0.61\n",
      "\n",
      "Exemplo 4:\n",
      "Preço real: 150.00\n",
      "Preço previsto: 236.28\n",
      "Diferença (Erro): -86.28\n",
      "\n",
      "Exemplo 5:\n",
      "Preço real: 175.00\n",
      "Preço previsto: 163.01\n",
      "Diferença (Erro): 11.99\n"
     ]
    }
   ],
   "source": [
    "first_test_samples = X_test[:5]  # Primeiros 5 exemplos de X_test\n",
    "real_prices = y_test[:5]  # Primeiros 5 preços reais (y_test)\n",
    "\n",
    "# Previsões para os primeiros exemplos\n",
    "predicted_prices = y_pred[:5]\n",
    "\n",
    "\n",
    "# Comparar as previsões com os valores reais\n",
    "for i in range(5):\n",
    "    print(f\"\\nExemplo {i+1}:\")\n",
    "    print(f\"Preço real: {real_prices.iloc[i]:.2f}\")\n",
    "    print(f\"Preço previsto: {predicted_prices[i]:.2f}\")\n",
    "    print(f\"Diferença (Erro): {real_prices.iloc[i] - predicted_prices[i]:.2f}\")"
   ]
  }
 ],
 "metadata": {
  "kernelspec": {
   "display_name": "Python 3",
   "language": "python",
   "name": "python3"
  },
  "language_info": {
   "codemirror_mode": {
    "name": "ipython",
    "version": 3
   },
   "file_extension": ".py",
   "mimetype": "text/x-python",
   "name": "python",
   "nbconvert_exporter": "python",
   "pygments_lexer": "ipython3",
   "version": "3.13.0"
  }
 },
 "nbformat": 4,
 "nbformat_minor": 2
}
